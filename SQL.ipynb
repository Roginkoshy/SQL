{
 "cells": [
  {
   "cell_type": "markdown",
   "metadata": {},
   "source": [
    "# SQL UDACITY BERTELSMANN DATA"
   ]
  },
  {
   "cell_type": "markdown",
   "metadata": {},
   "source": [
    "## L28Q25 Pull the first 5 rows and all columns from the orders table that have a dollar amount of gloss_amt_usd greater than or equal to 1000.\n",
    "https://classroom.udacity.com/courses/ud002-bert/lessons/614cf95a-13bf-406c-b092-e757178e633b/concepts/61a40e81-a1e4-4ced-bf68-7c5c5c2682de"
   ]
  },
  {
   "cell_type": "code",
   "execution_count": null,
   "metadata": {},
   "outputs": [],
   "source": [
    "SELECT *                                                                                                                       ##BY ADITYA MAHAJAN\n",
    "\tFROM orders\n",
    "    WHERE gloss_amt_usd >= 1000\n",
    "    ORDER BY gloss_amt_usd DESC\n",
    "     LIMIT 5"
   ]
  },
  {
   "cell_type": "markdown",
   "metadata": {},
   "source": [
    "## L28Q30 Create a column that divides the standard_amt_usd by the standard_qty to find the unit price for standard paper for each order. Limit the results to the first 10 orders, and include the id and account_id fields.  https://classroom.udacity.com/courses/ud002-bert/lessons/614cf95a-13bf-406c-b092-e757178e633b/concepts/6b161c1e-c518-46b2-93a3-202a82fe7a3a"
   ]
  },
  {
   "cell_type": "code",
   "execution_count": null,
   "metadata": {
    "collapsed": true
   },
   "outputs": [],
   "source": [
    "SELECT standard_amt_usd/standard_qty,id ,account_id                                                                                    ##BY ADITYA MAHAJAN\n",
    "\tFROM orders                                          \n",
    "\tFROM orders\n",
    "\tFROM orders\n",
    "    LIMIT 10\n",
    "    \n"
   ]
  },
  {
   "cell_type": "markdown",
   "metadata": {
    "collapsed": true
   },
   "source": [
    "## L28Q30 Write a query that finds the percentage of revenue that comes from poster paper for each order. You will need to use only the columns that end with _usd. (Try to do this without using the total column). Include the id and account_id fields. NOTE - you will be thrown an error with the correct solution to this question. This is for a division by zero. You will learn how to get a solution without an error to this query when you learn about CASE statements in a later section. For now, you might just add some very small value to your denominator as a work around. \n"
   ]
  },
  {
   "cell_type": "code",
   "execution_count": null,
   "metadata": {
    "collapsed": true
   },
   "outputs": [],
   "source": [
    "SELECT standard_amt_usd+gloss_amt_usd + poster_amt_usd,id ,account_id                         \n",
    "\tFROM orders\n",
    "    LIMIT 10\n"
   ]
  },
  {
   "cell_type": "markdown",
   "metadata": {
    "collapsed": true
   },
   "source": [
    "## L28Q35 All the companies whose names start with 'C'. "
   ]
  },
  {
   "cell_type": "code",
   "execution_count": null,
   "metadata": {},
   "outputs": [],
   "source": [
    "SELECT *\n",
    "\tFROM accounts\n",
    "    WHERE name = 'C%'"
   ]
  },
  {
   "cell_type": "markdown",
   "metadata": {},
   "source": [
    "## L28Q35 All companies whose names contain the string 'one' somewhere in the name."
   ]
  },
  {
   "cell_type": "code",
   "execution_count": null,
   "metadata": {
    "collapsed": true
   },
   "outputs": [],
   "source": [
    "SELECT *\n",
    "\tFROM accounts\n",
    "    WHERE name = '%one%'"
   ]
  },
  {
   "cell_type": "markdown",
   "metadata": {},
   "source": [
    "## L28Q35 All companies whose names end with 's'."
   ]
  },
  {
   "cell_type": "code",
   "execution_count": null,
   "metadata": {
    "collapsed": true
   },
   "outputs": [],
   "source": [
    "SELECT *\n",
    "\tFROM accounts\n",
    "    WHERE name = '%s'"
   ]
  },
  {
   "cell_type": "markdown",
   "metadata": {},
   "source": [
    "## L28Q38 Use the accounts table to find the account name, primary_poc, and sales_rep_id for Walmart, Target, and Nordstrom."
   ]
  },
  {
   "cell_type": "code",
   "execution_count": null,
   "metadata": {},
   "outputs": [],
   "source": [
    "SELECT name, primary_poc, sales_rep_id \n",
    "\tFROM accounts\n",
    "    WHERE name in ('Walmart','Target', 'Nordstrom')"
   ]
  },
  {
   "cell_type": "markdown",
   "metadata": {},
   "source": [
    "## L28Q38 Use the web_events table to find all information regarding individuals who were contacted via the channel of organic or adwords."
   ]
  },
  {
   "cell_type": "code",
   "execution_count": null,
   "metadata": {},
   "outputs": [],
   "source": [
    "SELECT *\n",
    "\tFROM web_events\n",
    "    WHERE channel  in ('organic','adwords')"
   ]
  },
  {
   "cell_type": "markdown",
   "metadata": {},
   "source": [
    "##  L28Q44 Write a query that returns all the orders where the standard_qty is over 1000, the poster_qty is 0, and the gloss_qty is 0.\n"
   ]
  },
  {
   "cell_type": "code",
   "execution_count": null,
   "metadata": {},
   "outputs": [],
   "source": [
    "SELECT *\n",
    "\tFROM orders \n",
    "    WHERE standard_qty >1000 and poster_qty =0 and gloss_qty=0"
   ]
  },
  {
   "cell_type": "markdown",
   "metadata": {},
   "source": [
    "## L28Q44 Use the web_events table to find all information regarding individuals who were contacted via organic or adwords and started their account at any point in 2016 sorted from newest to oldest.\n"
   ]
  },
  {
   "cell_type": "code",
   "execution_count": null,
   "metadata": {},
   "outputs": [],
   "source": [
    "SELECT *\n",
    "\tFROM web_events \n",
    "    WHERE (channel = 'organic' or channel='adwords' )and  occurred_at >= '01/01/2016'\n",
    "    ORDER BY occurred_at  DESC"
   ]
  },
  {
   "cell_type": "markdown",
   "metadata": {},
   "source": [
    "## L28Q47 Find list of orders ids where either gloss_qty or poster_qty is greater than 4000. Only include the id field in the resulting table.\n"
   ]
  },
  {
   "cell_type": "code",
   "execution_count": null,
   "metadata": {
    "collapsed": true
   },
   "outputs": [],
   "source": [
    "SELECT id \n",
    "\tFROM orders\n",
    "    WHERE gloss_qty> 4000 or poster_qty >4000  \n",
    "    "
   ]
  },
  {
   "cell_type": "markdown",
   "metadata": {},
   "source": [
    "## L28Q47 Find all the company names that start with a 'C' or 'W', and the primary contact contains 'ana' or 'Ana', but it doesn't contain 'eana'."
   ]
  },
  {
   "cell_type": "code",
   "execution_count": null,
   "metadata": {},
   "outputs": [],
   "source": [
    "SELECT id \n",
    "\tFROM accounts\n",
    "    WHERE (name = 'C%' or name ='%W') and (primary_poc ='%ana%' or primary_poc='%Ana')and primary_poc != 'eana'\n",
    "    "
   ]
  },
  {
   "cell_type": "markdown",
   "metadata": {},
   "source": [
    "## L29Q4Try pulling all the data from the accounts table, and all the data from the orders table."
   ]
  },
  {
   "cell_type": "code",
   "execution_count": null,
   "metadata": {},
   "outputs": [],
   "source": [
    "SELECT orders.*\n",
    "FROM orders\n",
    "JOIN accounts\n",
    "ON orders.account_id = accounts.id;"
   ]
  },
  {
   "cell_type": "markdown",
   "metadata": {},
   "source": [
    "##  L29Q4Try pulling standard_qty, gloss_qty, and poster_qty from the orders table, and the website and the primary_poc from the accounts table."
   ]
  },
  {
   "cell_type": "code",
   "execution_count": null,
   "metadata": {},
   "outputs": [],
   "source": [
    "SELECT accounts.website,accounts.primary_poc, orders.standard_qty, orders.gloss_qty, orders.poster_qty \n",
    "FROM orders\n",
    "JOIN accounts\n",
    "ON orders.account_id = accounts.id;"
   ]
  },
  {
   "cell_type": "markdown",
   "metadata": {},
   "source": [
    "## L29Q12 Provide a table for all the for all web_events associated with account name of Walmart. There should be three columns. Be sure to include the primary_poc, time of the event, and the channel for each event. Additionally, you might choose to add a fourth column to assure only Walmart events were chosen."
   ]
  },
  {
   "cell_type": "code",
   "execution_count": null,
   "metadata": {},
   "outputs": [],
   "source": [
    "SELECT a.primary_poc, w.occurred_at, w.channel, a.name\n",
    "FROM web_events w\n",
    "JOIN accounts a\n",
    "ON w.account_id = a.id\n",
    "WHERE a.name = 'Walmart';"
   ]
  },
  {
   "cell_type": "markdown",
   "metadata": {},
   "source": [
    "## L29Q12 Provide a table that provides the region for each sales_rep along with their associated accounts. Your final table should include three columns: the region name, the sales rep name, and the account name. Sort the accounts alphabetically (A-Z) according to account name."
   ]
  },
  {
   "cell_type": "code",
   "execution_count": null,
   "metadata": {},
   "outputs": [],
   "source": [
    "SELECT r.name , s.name , a.name \n",
    "FROM sales_reps s\n",
    "JOIN region r\n",
    "ON s.region_id = r.id\n",
    "JOIN accounts a\n",
    "ON a.sales_rep_id = s.id\n",
    "ORDER BY a.name;"
   ]
  },
  {
   "cell_type": "markdown",
   "metadata": {},
   "source": [
    "## L29Q12  Provide the name for each region for every order, as well as the account name and the unit price they paid (total_amt_usd/total) for the order. Your final table should have 3 columns: region name, account name, and unit price. A few accounts have 0 for total, so I divided by (total + 0.01) to assure not dividing by zero."
   ]
  },
  {
   "cell_type": "code",
   "execution_count": null,
   "metadata": {},
   "outputs": [],
   "source": [
    "SELECT r.name , a.name , \n",
    "       o.total_amt_usd/(o.total + 0.01) unit_price\n",
    "FROM region r\n",
    "JOIN sales_reps s\n",
    "ON s.region_id = r.id\n",
    "JOIN accounts a\n",
    "ON a.sales_rep_id = s.id\n",
    "JOIN orders o\n",
    "ON o.account_id = a.id;"
   ]
  },
  {
   "cell_type": "markdown",
   "metadata": {},
   "source": [
    "## L29Q19  1 Provide a table that provides the region for each sales_rep along with their associated accounts. This time only for the Midwest region. Your final table should include three columns: the region name, the sales rep name, and the account name. Sort the accounts alphabetically (A-Z) according to account name.\n"
   ]
  },
  {
   "cell_type": "code",
   "execution_count": null,
   "metadata": {
    "collapsed": true
   },
   "outputs": [],
   "source": [
    "SELECT r.name , a.name , s.name\n",
    "FROM sales_reps s\n",
    "JOIN region r\n",
    "ON s.region_id = r.id\n",
    "JOIN accounts a\n",
    "ON a.sales_rep_id = s.id\n",
    "WHERE r.name = 'Midwest'\n",
    "ORDER BY a.name;\n"
   ]
  },
  {
   "cell_type": "markdown",
   "metadata": {},
   "source": [
    "## L29Q19 2 Provide a table that provides the region for each sales_rep along with their associated accounts. This time only for accounts where the sales rep has a first name starting with S and in the Midwest region. Your final table should include three columns: the region name, the sales rep name, and the account name. Sort the accounts alphabetically (A-Z) according to account name."
   ]
  },
  {
   "cell_type": "code",
   "execution_count": null,
   "metadata": {},
   "outputs": [],
   "source": [
    "\n",
    "SELECT r.name region, s.name rep, a.name account\n",
    "FROM sales_reps s\n",
    "JOIN region r\n",
    "ON s.region_id = r.id\n",
    "JOIN accounts a\n",
    "ON a.sales_rep_id = s.id\n",
    "WHERE r.name = 'Midwest' AND s.name LIKE 'S%'\n",
    "ORDER BY a.name;"
   ]
  },
  {
   "cell_type": "markdown",
   "metadata": {},
   "source": [
    "## L29Q19 3 Provide a table that provides the region for each sales_rep along with their associated accounts. This time only for accounts where the sales rep has a last name starting with K and in the Midwest region. Your final table should include three columns: the region name, the sales rep name, and the account name. Sort the accounts alphabetically (A-Z) according to account name."
   ]
  },
  {
   "cell_type": "code",
   "execution_count": null,
   "metadata": {
    "collapsed": true
   },
   "outputs": [],
   "source": [
    "SELECT r.name region, s.name rep, a.name account\n",
    "FROM sales_reps s\n",
    "JOIN region r\n",
    "ON s.region_id = r.id                                 \n",
    "JOIN accounts a\n",
    "ON a.sales_rep_id = s.id\n",
    "WHERE r.name = 'Midwest' AND s.name LIKE '% K%'\n",
    "ORDER BY a.name;"
   ]
  },
  {
   "cell_type": "code",
   "execution_count": null,
   "metadata": {
    "collapsed": true
   },
   "outputs": [],
   "source": []
  },
  {
   "cell_type": "markdown",
   "metadata": {},
   "source": [
    "## L29Q19 4 Provide the name for each region for every order, as well as the account name and the unit price they paid (total_amt_usd/total) for the order. However, you should only provide the results if the standard order quantity exceeds 100. Your final table should have 3 columns: region name, account name, and unit price."
   ]
  },
  {
   "cell_type": "code",
   "execution_count": null,
   "metadata": {},
   "outputs": [],
   "source": [
    "SELECT r.name region, a.name account, o.total_amt_usd/(o.total + 0.01) unit_price\n",
    "FROM region r\n",
    "JOIN sales_reps s\n",
    "ON s.region_id = r.id\n",
    "JOIN accounts a\n",
    "ON a.sales_rep_id = s.id\n",
    "JOIN orders o\n",
    "ON o.account_id = a.id\n",
    "WHERE o.standard_qty > 100;"
   ]
  },
  {
   "cell_type": "markdown",
   "metadata": {},
   "source": [
    "## L29Q19 5 Provide the name for each region for every order, as well as the account name and the unit price they paid (total_amt_usd/total) for the order. However, you should only provide the results if the standard order quantity exceeds 100 and the poster order quantity exceeds 50. Your final table should have 3 columns: region name, account name, and unit price. Sort for the smallest unit price first."
   ]
  },
  {
   "cell_type": "code",
   "execution_count": null,
   "metadata": {},
   "outputs": [],
   "source": [
    "SELECT r.name region, a.name account, o.total_amt_usd/(o.total + 0.01) unit_price     \n",
    "FROM region r\n",
    "JOIN sales_reps s\n",
    "ON s.region_id = r.id\n",
    "JOIN accounts a\n",
    "ON a.sales_rep_id = s.id\n",
    "JOIN orders o\n",
    "ON o.account_id = a.id\n",
    "WHERE o.standard_qty > 100 AND o.poster_qty > 50\n",
    "ORDER BY unit_price;"
   ]
  },
  {
   "cell_type": "markdown",
   "metadata": {},
   "source": [
    "## L29Q19 6 Provide the name for each region for every order, as well as the account name and the unit price they paid (total_amt_usd/total) for the order. However, you should only provide the results if the standard order quantity exceeds 100 and the poster order quantity exceeds 50. Your final table should have 3 columns: region name, account name, and unit price. Sort for the largest unit price first."
   ]
  },
  {
   "cell_type": "code",
   "execution_count": null,
   "metadata": {},
   "outputs": [],
   "source": [
    "SELECT r.name region, a.name account, o.total_amt_usd/(o.total + 0.01) unit_price\n",
    "FROM region r\n",
    "JOIN sales_reps s\n",
    "ON s.region_id = r.id\n",
    "JOIN accounts a\n",
    "ON a.sales_rep_id = s.id\n",
    "JOIN orders o\n",
    "ON o.account_id = a.id\n",
    "WHERE o.standard_qty > 100 AND o.poster_qty > 50\n",
    "ORDER BY unit_price DESC;"
   ]
  },
  {
   "cell_type": "markdown",
   "metadata": {},
   "source": [
    "## L29Q19  7 What are the different channels used by account id 1001? Your final table should have only 2 columns: account name and the different channels. You can try SELECT DISTINCT to narrow down the results to only the unique values."
   ]
  },
  {
   "cell_type": "code",
   "execution_count": null,
   "metadata": {},
   "outputs": [],
   "source": [
    "SELECT DISTINCT a.name, w.channel\n",
    "FROM accounts a\n",
    "JOIN web_events w\n",
    "ON a.id = w.account_id\n",
    "WHERE a.id = '1001';"
   ]
  },
  {
   "cell_type": "markdown",
   "metadata": {},
   "source": [
    "## L29Q19  8 Find all the orders that occurred in 2015. Your final table should have 4 columns: occurred_at, account name, order total, and order total_amt_usd."
   ]
  },
  {
   "cell_type": "code",
   "execution_count": null,
   "metadata": {},
   "outputs": [],
   "source": [
    "SELECT o.occurred_at, a.name, o.total, o.total_amt_usd\n",
    "FROM accounts a\n",
    "JOIN orders o\n",
    "ON o.account_id = a.id\n",
    "WHERE o.occurred_at BETWEEN '01-01-2015' AND '01-01-2016'\n",
    "ORDER BY o.occurred_at DESC;"
   ]
  },
  {
   "cell_type": "markdown",
   "metadata": {},
   "source": [
    "## L30Q4 finding all the rows in the accounts table."
   ]
  },
  {
   "cell_type": "code",
   "execution_count": null,
   "metadata": {},
   "outputs": [],
   "source": [
    "SELECT COUNT(*)\n",
    "FROM accounts;\n",
    "##OR\n",
    "SELECT COUNT(accounts.id)\n",
    "FROM accounts;"
   ]
  },
  {
   "cell_type": "markdown",
   "metadata": {},
   "source": [
    "## L30Q4 Find the total amount of poster_qty paper ordered in the orders table."
   ]
  },
  {
   "cell_type": "code",
   "execution_count": null,
   "metadata": {
    "collapsed": true
   },
   "outputs": [],
   "source": [
    "SELECT COUNT(poster_qty)\n",
    "FROM orders;"
   ]
  },
  {
   "cell_type": "markdown",
   "metadata": {},
   "source": [
    "## L30Q7 5 Find the standard_amt_usd per unit of standard_qty paper. Your solution should use both an aggregation and a mathematical operator."
   ]
  },
  {
   "cell_type": "code",
   "execution_count": null,
   "metadata": {},
   "outputs": [],
   "source": [
    "SELECT SUM(standard_amt_usd)/SUM(standard_qty) AS standard_price_per_unit\n",
    "FROM orders;"
   ]
  },
  {
   "cell_type": "markdown",
   "metadata": {},
   "source": [
    "## L30Q12 6 Via the video, you might be interested in how to calculate the MEDIAN. Though this is more advanced than what we have covered so far try finding - what is the MEDIAN total_usd spent on all orders? Note, this is more advanced than the topics we have covered thus far to build a general solution, but we can hard code a solution in the following way."
   ]
  },
  {
   "cell_type": "code",
   "execution_count": null,
   "metadata": {},
   "outputs": [],
   "source": [
    "SELECT *\n",
    "FROM (SELECT total_amt_usd\n",
    "      FROM orders\n",
    "      ORDER BY total_amt_usd\n",
    "      LIMIT 3457) AS Table1\n",
    "ORDER BY total_amt_usd DESC\n",
    "LIMIT 2;\n",
    "\n",
    "##Since there are 6912 orders - we want the average of the 3457 and 3456 order amounts when ordered. This is the average of\n",
    "##2483.16 and 2482.55. This gives the median of 2482.855. This obviously isn't an ideal way to compute. If we obtain new \n",
    "##orders, we would have to change the limit. SQL didn't even calculate the median for us. The above used a SUBQUERY, but \n",
    "##you could use any method to find the two necessary values, and then you just need the average of them."
   ]
  },
  {
   "cell_type": "markdown",
   "metadata": {},
   "source": [
    "## L30Q15 2 Find the total sales in usd for each account. You should include two columns - the total sales for each company's orders in usd and the company name."
   ]
  },
  {
   "cell_type": "code",
   "execution_count": null,
   "metadata": {
    "collapsed": true
   },
   "outputs": [],
   "source": [
    "SELECT a.name, SUM(total_amt_usd) total_sales\n",
    "FROM orders o\n",
    "JOIN accounts a\n",
    "ON a.id = o.account_id\n",
    "GROUP BY a.name;"
   ]
  },
  {
   "cell_type": "markdown",
   "metadata": {},
   "source": [
    "## L30Q15 4 Find the total number of times each type of channel from the web_events was used. Your final table should have two columns - the channel and the number of times the channel was used."
   ]
  },
  {
   "cell_type": "code",
   "execution_count": null,
   "metadata": {},
   "outputs": [],
   "source": [
    "SELECT w.channel, COUNT(*)\n",
    "FROM web_events w\n",
    "GROUP BY w.channel"
   ]
  },
  {
   "cell_type": "markdown",
   "metadata": {},
   "source": [
    "## L30Q15 6 What was the smallest order placed by each account in terms of total usd. Provide only two columns - the account name and the total usd. Order from smallest dollar amounts to largest."
   ]
  },
  {
   "cell_type": "code",
   "execution_count": null,
   "metadata": {},
   "outputs": [],
   "source": [
    "SELECT a.name, MIN(total_amt_usd) smallest_order\n",
    "FROM accounts a\n",
    "JOIN orders o\n",
    "ON a.id = o.account_id\n",
    "GROUP BY a.name\n",
    "ORDER BY smallest_order;\n",
    "\n"
   ]
  },
  {
   "cell_type": "markdown",
   "metadata": {},
   "source": [
    "## L30Q15 7 Find the number of sales reps in each region. Your final table should have two columns - the region and the number of sales_reps. Order from fewest reps to most reps."
   ]
  },
  {
   "cell_type": "code",
   "execution_count": null,
   "metadata": {},
   "outputs": [],
   "source": [
    "SELECT r.name, COUNT(*) num_reps\n",
    "FROM region r\n",
    "JOIN sales_reps s\n",
    "ON r.id = s.region_id\n",
    "GROUP BY r.name\n",
    "ORDER BY num_reps;"
   ]
  },
  {
   "cell_type": "markdown",
   "metadata": {},
   "source": [
    "## L30Q18 1 For each account, determine the average amount of each type of paper they purchased across their orders. Your result should have four columns - one for the account name and one for the average spent on each of the paper types.\n"
   ]
  },
  {
   "cell_type": "code",
   "execution_count": null,
   "metadata": {},
   "outputs": [],
   "source": [
    "SELECT a.name, AVG(o.standard_qty) avg_stand, AVG(o.gloss_qty) avg_gloss, AVG(o.poster_qty) avg_post\n",
    "FROM accounts a\n",
    "JOIN orders o\n",
    "ON a.id = o.account_id\n",
    "GROUP BY a.name;"
   ]
  },
  {
   "cell_type": "markdown",
   "metadata": {},
   "source": [
    "## L30Q18 3 Determine the number of times a particular channel was used in the web_events table for each sales rep. Your final table should have three columns - the name of the sales rep, the channel, and the number of occurrences. Order your table with the highest number of occurrences first."
   ]
  },
  {
   "cell_type": "code",
   "execution_count": null,
   "metadata": {},
   "outputs": [],
   "source": [
    "SELECT r.name, w.channel, COUNT(*) num_events\n",
    "FROM accounts a\n",
    "JOIN web_events w\n",
    "ON a.id = w.account_id\n",
    "JOIN sales_reps s\n",
    "ON s.id = a.sales_rep_id\n",
    "JOIN region r\n",
    "ON r.id = s.region_id\n",
    "GROUP BY r.name, w.channel\n",
    "ORDER BY num_events DESC;"
   ]
  },
  {
   "cell_type": "markdown",
   "metadata": {},
   "source": [
    "## L30Q18 4 Determine the number of times a particular channel was used in the web_events table for each region. Your final table should have three columns - the region name, the channel, and the number of occurrences. Order your table with the highest number of occurrences first."
   ]
  },
  {
   "cell_type": "code",
   "execution_count": null,
   "metadata": {},
   "outputs": [],
   "source": [
    "SELECT r.name, w.channel, COUNT(*) num_events\n",
    "FROM accounts a\n",
    "JOIN web_events w\n",
    "ON a.id = w.account_id\n",
    "JOIN sales_reps s\n",
    "ON s.id = a.sales_rep_id\n",
    "JOIN region r\n",
    "ON r.id = s.region_id\n",
    "GROUP BY r.name, w.channel\n",
    "ORDER BY num_events DESC;"
   ]
  },
  {
   "cell_type": "markdown",
   "metadata": {},
   "source": [
    "## L30Q20 1 Use DISTINCT to test if there are any accounts associated with more than one region.The below two queries have the same number of resulting rows (351), so we know that every account is associated with only one region. If each account was associated with more than one region, the first query should have returned more rows than the second query.Use DISTINCT to test if there are any accounts associated with more than one region.\n",
    "\n"
   ]
  },
  {
   "cell_type": "code",
   "execution_count": null,
   "metadata": {},
   "outputs": [],
   "source": [
    "SELECT a.id as \"account id\", r.id as \"region id\", \n",
    "a.name as \"account name\", r.name as \"region name\"\n",
    "FROM accounts a\n",
    "JOIN sales_reps s\n",
    "ON s.id = a.sales_rep_id\n",
    "JOIN region r\n",
    "ON r.id = s.region_id;\n",
    "\n",
    "\n",
    "##SELECT DISTINCT id, name\n",
    "##FROM accounts;\n"
   ]
  },
  {
   "cell_type": "markdown",
   "metadata": {
    "collapsed": true
   },
   "source": [
    "## L30Q24 1 How many of the sales reps have more than 5 accounts that they manage? "
   ]
  },
  {
   "cell_type": "code",
   "execution_count": null,
   "metadata": {},
   "outputs": [],
   "source": [
    "SELECT s.id, s.name, COUNT(*) num_accounts\n",
    "FROM accounts a\n",
    "JOIN sales_reps s\n",
    "ON s.id = a.sales_rep_id\n",
    "GROUP BY  s.id, s.name\n",
    "HAVING COUNT(*) >  5\n",
    "ORDER BY  num_accounts\n",
    "\n"
   ]
  },
  {
   "cell_type": "code",
   "execution_count": null,
   "metadata": {},
   "outputs": [],
   "source": [
    "##USing SUBQUERYSELECT COUNT(*) num_reps_above5\n",
    "FROM(SELECT s.id, s.name, COUNT(*) num_accounts\n",
    "     FROM accounts a\n",
    "     JOIN sales_reps s\n",
    "     ON s.id = a.sales_rep_id\n",
    "     GROUP BY s.id, s.name\n",
    "     HAVING COUNT(*) > 5\n",
    "     ORDER BY num_accounts) AS Table1;####"
   ]
  },
  {
   "cell_type": "markdown",
   "metadata": {},
   "source": [
    "## L30Q24 3 Which account has the most orders?\n",
    "\n"
   ]
  },
  {
   "cell_type": "code",
   "execution_count": null,
   "metadata": {},
   "outputs": [],
   "source": [
    "SELECT a.id, a.name, COUNT(*) num_orders\n",
    "FROM accounts a\n",
    "JOIN orders o\n",
    "ON a.id = o.account_id\n",
    "GROUP BY a.id, a.name\n",
    "ORDER BY num_orders DESC\n",
    "LIMIT 1;"
   ]
  },
  {
   "cell_type": "markdown",
   "metadata": {},
   "source": [
    "## L30Q24 4 How many accounts spent more than 30,000 usd total across all orders?"
   ]
  },
  {
   "cell_type": "code",
   "execution_count": null,
   "metadata": {
    "collapsed": true
   },
   "outputs": [],
   "source": [
    "SELECT a.id, a.name, SUM(o.total_amt_usd) total_spent\n",
    "FROM accounts a\n",
    "JOIN orders  o\n",
    "ON a.id =  o.account_id\n",
    "GROUP BY a.id, a.name\n",
    "HAVING SUM(o.total_amt_usd) > 30000\n",
    "ORDER BY total_spent;"
   ]
  },
  {
   "cell_type": "markdown",
   "metadata": {},
   "source": [
    "## L30Q24 8 Which accounts used facebook as a channel to contact customers more than 6 times?"
   ]
  },
  {
   "cell_type": "code",
   "execution_count": null,
   "metadata": {},
   "outputs": [],
   "source": [
    "SELECT a.id, a.name, w.channel, COUNT(*) use_of_channel\n",
    "FROM accounts a\n",
    "JOIN web_events w\n",
    "ON a.id = w.account_id\n",
    "GROUP BY a.id, a.name, w.channel\n",
    "HAVING COUNT(*) > 6 AND w.channel = 'facebook'\n",
    "ORDER BY use_of_channel;"
   ]
  },
  {
   "cell_type": "markdown",
   "metadata": {},
   "source": [
    "## L30Q28 1 Find the sales in terms of total dollars for all orders in each year, ordered from greatest to least. Do you notice any trends in the yearly sales totals?"
   ]
  },
  {
   "cell_type": "code",
   "execution_count": null,
   "metadata": {},
   "outputs": [],
   "source": [
    " SELECT DATE_PART('year', occurred_at) ord_year,  SUM(total_amt_usd) total_spent\n",
    " FROM orders\n",
    " GROUP BY 1\n",
    " ORDER BY 2 DESC;"
   ]
  },
  {
   "cell_type": "markdown",
   "metadata": {},
   "source": [
    "## L30Q28 3 Which month did Parch & Posey have the greatest sales in terms of total dollars? Are all months evenly represented by the dataset?\n"
   ]
  },
  {
   "cell_type": "code",
   "execution_count": null,
   "metadata": {},
   "outputs": [],
   "source": [
    "SELECT DATE_PART('month', occurred_at) ord_month, SUM(total_amt_usd) total_spent\n",
    "FROM orders\n",
    "WHERE occurred_at BETWEEN '2014-01-01' AND '2017-01-01'\n",
    "GROUP BY  1\n",
    "ORDER BY 2  DESC;"
   ]
  },
  {
   "cell_type": "markdown",
   "metadata": {},
   "source": [
    "## L30Q28 5 In which month of which year did Walmart spend the most on gloss paper in terms of dollars?"
   ]
  },
  {
   "cell_type": "code",
   "execution_count": null,
   "metadata": {},
   "outputs": [],
   "source": [
    "SELECT DATE_TRUNC('month', o.occurred_at) ord_date, SUM(o.gloss_amt_usd) tot_spent\n",
    "FROM orders o \n",
    "JOIN accounts a\n",
    "ON a.id = o.account_id\n",
    "WHERE a.name = 'Walmart'\n",
    "GROUP BY 1\n",
    "ORDER BY 2 DESC\n",
    "LIMIT 1;\n",
    "\n"
   ]
  },
  {
   "cell_type": "markdown",
   "metadata": {},
   "source": [
    "## L30Q28 1 We would like to understand 3 different levels of customers based on the amount associated with their purchases. The top branch includes anyone with a Lifetime Value (total sales of all orders) greater than 200,000 usd. The second branch is between 200,000 and 100,000 usd. The lowest branch is anyone under 100,000 usd. Provide a table that includes the level associated with each account. You should provide the account name, the total sales of all orders for the customer, and the level. Order with the top spending customers listed first."
   ]
  },
  {
   "cell_type": "code",
   "execution_count": null,
   "metadata": {
    "collapsed": true
   },
   "outputs": [],
   "source": [
    "SELECT a.name, SUM(total_amt_usd) total_spent, \n",
    "     CASE WHEN SUM(total_amt_usd) > 200000 THEN 'top'\n",
    "     WHEN  SUM(total_amt_usd) > 100000 THEN 'middle'\n",
    "     ELSE 'low' END AS customer_level\n",
    "FROM orders o\n",
    "JOIN accounts a\n",
    "ON o.account_id = a.id \n",
    "GROUP BY a.name\n",
    "ORDER BY 2 DESC;"
   ]
  },
  {
   "cell_type": "markdown",
   "metadata": {},
   "source": [
    "## L30Q28 2 We would now like to perform a similar calculation to the first, but we want to obtain the total amount spent by customers only in 2016 and 2017. Keep the same levels as in the previous question. Order with the top spending customers listed first."
   ]
  },
  {
   "cell_type": "code",
   "execution_count": null,
   "metadata": {
    "collapsed": true
   },
   "outputs": [],
   "source": [
    "SELECT a.name, SUM(total_amt_usd) total_spent, \n",
    "     CASE WHEN SUM(total_amt_usd) > 200000 THEN 'top'\n",
    "     WHEN  SUM(total_amt_usd) > 100000 THEN 'middle'\n",
    "     ELSE 'low' END AS customer_level\n",
    "FROM orders o\n",
    "JOIN accounts a\n",
    "ON o.account_id = a.id\n",
    "WHERE occurred_at > '2015-12-31' \n",
    "GROUP BY 1\n",
    "ORDER BY 2 DESC;"
   ]
  },
  {
   "cell_type": "markdown",
   "metadata": {},
   "source": [
    "## L30Q28 3 We would like to identify top performing sales reps, which are sales reps associated with more than 200 orders. Create a table with the sales rep name, the total number of orders, and a column with top or not depending on if they have more than 200 orders. Place the top sales people first in your final table."
   ]
  },
  {
   "cell_type": "code",
   "execution_count": null,
   "metadata": {
    "collapsed": true
   },
   "outputs": [],
   "source": [
    "SELECT s.name, COUNT(*) num_ords,\n",
    "     CASE WHEN COUNT(*) > 200 THEN 'top'\n",
    "     ELSE 'not' END AS sales_rep_level\n",
    "FROM orders o\n",
    "JOIN accounts a\n",
    "ON o.account_id = a.id \n",
    "JOIN sales_reps s\n",
    "ON s.id = a.sales_rep_id\n",
    "GROUP BY s.name\n",
    "ORDER BY 2 DESC;"
   ]
  },
  {
   "cell_type": "markdown",
   "metadata": {},
   "source": [
    "##  L30Q28 4 The previous didn't account for the middle, nor the dollar amount associated with the sales. Management decides they want to see these characteristics represented as well. We would like to identify top performing sales reps, which are sales reps associated with more than 200 orders or more than 750000 in total sales. The middle group has any rep with more than 150 orders or 500000 in sales. Create a table with the sales rep name, the total number of orders, total sales across all orders, and a column with top, middle, or low depending on this criteria. Place the top sales people based on dollar amount of sales first in your final table."
   ]
  },
  {
   "cell_type": "code",
   "execution_count": null,
   "metadata": {},
   "outputs": [],
   "source": [
    "SELECT s.name, COUNT(*), SUM(o.total_amt_usd) total_spent, \n",
    "     CASE WHEN COUNT(*) > 200 OR SUM(o.total_amt_usd) > 750000 THEN 'top'\n",
    "     WHEN COUNT(*) > 150 OR SUM(o.total_amt_usd) > 500000 THEN 'middle'\n",
    "     ELSE 'low' END AS sales_rep_level\n",
    "FROM orders o\n",
    "JOIN accounts a\n",
    "ON o.account_id = a.id \n",
    "JOIN sales_reps s\n",
    "ON s.id = a.sales_rep_id\n",
    "GROUP BY s.name\n",
    "ORDER BY 3 DESC;"
   ]
  },
  {
   "cell_type": "markdown",
   "metadata": {},
   "source": [
    "##  L30Q31 3 Number of events that occur for each day in each channel."
   ]
  },
  {
   "cell_type": "code",
   "execution_count": null,
   "metadata": {},
   "outputs": [],
   "source": [
    "SELECT DATE_TRUNC('day',occurred_at) AS day,\n",
    "   channel, COUNT(*) as events\n",
    "FROM web_events\n",
    "GROUP BY 1,2\n",
    "ORDER BY 3 DESC;"
   ]
  },
  {
   "cell_type": "markdown",
   "metadata": {
    "collapsed": true
   },
   "source": [
    "## L30Q31 4 Finally, here we are able to get a table that shows the average number of events a day for each channel."
   ]
  },
  {
   "cell_type": "code",
   "execution_count": null,
   "metadata": {},
   "outputs": [],
   "source": [
    "SELECT channel, AVG(events) AS average_events\n",
    "FROM (SELECT DATE_TRUNC('day',occurred_at) AS day,\n",
    "             channel, COUNT(*) as events\n",
    "      FROM web_events \n",
    "      GROUP BY 1,2) sub\n",
    "GROUP BY channel\n",
    "ORDER BY 2 DESC;"
   ]
  },
  {
   "cell_type": "markdown",
   "metadata": {},
   "source": [
    "##  L30Q31 4 find only orders that took place in same month and year as the first one then pull out  avg from each paper type "
   ]
  },
  {
   "cell_type": "code",
   "execution_count": null,
   "metadata": {},
   "outputs": [],
   "source": [
    "##Will give us avg of each paper type \n",
    "SELECT AVG(standard_qty) avg_std, AVG(gloss_qty) avg_gls, AVG(poster_qty) avg_pst\n",
    "FROM orders\n",
    "WHERE DATE_TRUNC('month', occurred_at) = \n",
    "     (SELECT DATE_TRUNC('month', MIN(occurred_at)) FROM orders);\n",
    "##will give us The total amount spent on all orders on the first month that any order was placed in the orders table (in terms of usd).\n",
    "SELECT SUM(total_amt_usd)\n",
    "FROM orders\n",
    "WHERE DATE_TRUNC('month', occurred_at) = \n",
    "      (SELECT DATE_TRUNC('month', MIN(occurred_at)) FROM orders);"
   ]
  },
  {
   "cell_type": "markdown",
   "metadata": {},
   "source": [
    "## L30Q31 10 1 Provide the name of the sales_rep in each region with the largest amount of total_amt_usd sales."
   ]
  },
  {
   "cell_type": "code",
   "execution_count": null,
   "metadata": {},
   "outputs": [],
   "source": [
    "SELECT t3.rep_name, t3.region_name, t3.total_amt\n",
    "FROM(SELECT region_name, MAX(total_amt) total_amt\n",
    "     FROM(SELECT s.name rep_name, r.name region_name, SUM(o.total_amt_usd) total_amt\n",
    "             FROM sales_reps s\n",
    "             JOIN accounts a\n",
    "             ON a.sales_rep_id = s.id\n",
    "             JOIN orders o\n",
    "             ON o.account_id = a.id\n",
    "             JOIN region r\n",
    "             ON r.id = s.region_id\n",
    "             GROUP BY 1, 2) t1\n",
    "     GROUP BY 1) t2\n",
    "JOIN (SELECT s.name rep_name, r.name region_name, SUM(o.total_amt_usd) total_amt\n",
    "     FROM sales_reps s\n",
    "     JOIN accounts a\n",
    "     ON a.sales_rep_id = s.id\n",
    "     JOIN orders o\n",
    "     ON o.account_id = a.id\n",
    "     JOIN region r\n",
    "     ON r.id = s.region_id\n",
    "     GROUP BY 1,2\n",
    "     ORDER BY 3 DESC) t3\n",
    "ON t3.region_name = t2.region_name AND t3.total_amt = t2.total_amt;"
   ]
  },
  {
   "cell_type": "code",
   "execution_count": null,
   "metadata": {
    "collapsed": true
   },
   "outputs": [],
   "source": [
    "## USING WITH\n",
    "WITH t1 AS (\n",
    "  SELECT s.name rep_name, r.name region_name, SUM(o.total_amt_usd) total_amt\n",
    "   FROM sales_reps s\n",
    "   JOIN accounts a\n",
    "   ON a.sales_rep_id = s.id\n",
    "   JOIN orders o\n",
    "   ON o.account_id = a.id\n",
    "   JOIN region r\n",
    "   ON r.id = s.region_id\n",
    "   GROUP BY 1,2\n",
    "   ORDER BY 3 DESC), \n",
    "t2 AS (\n",
    "   SELECT region_name, MAX(total_amt) total_amt\n",
    "   FROM t1\n",
    "   GROUP BY 1)\n",
    "SELECT t1.rep_name, t1.region_name, t1.total_amt\n",
    "FROM t1\n",
    "JOIN t2\n",
    "ON t1.region_name = t2.region_name AND t1.total_amt = t2.total_amt;"
   ]
  },
  {
   "cell_type": "markdown",
   "metadata": {},
   "source": [
    "##  L30Q31 10 2 For the region with the largest (sum) of sales total_amt_usd, how many total (count) orders were placed?\n"
   ]
  },
  {
   "cell_type": "code",
   "execution_count": null,
   "metadata": {},
   "outputs": [],
   "source": [
    "SELECT r.name, COUNT(o.total) total_orders\n",
    "FROM sales_reps s\n",
    "JOIN accounts a\n",
    "ON a.sales_rep_id = s.id\n",
    "JOIN orders o\n",
    "ON o.account_id = a.id\n",
    "JOIN region r\n",
    "ON r.id = s.region_id\n",
    "GROUP BY r.name\n",
    "HAVING SUM(o.total_amt_usd) = (\n",
    "      SELECT MAX(total_amt)\n",
    "      FROM (SELECT r.name region_name, SUM(o.total_amt_usd) total_amt\n",
    "              FROM sales_reps s\n",
    "              JOIN accounts a\n",
    "              ON a.sales_rep_id = s.id\n",
    "              JOIN orders o\n",
    "              ON o.account_id = a.id\n",
    "              JOIN region r\n",
    "              ON r.id = s.region_id\n",
    "              GROUP BY r.name) sub);"
   ]
  },
  {
   "cell_type": "code",
   "execution_count": null,
   "metadata": {
    "collapsed": true
   },
   "outputs": [],
   "source": [
    "WITH t1 AS (\n",
    "   SELECT r.name region_name, SUM(o.total_amt_usd) total_amt\n",
    "   FROM sales_reps s\n",
    "   JOIN accounts a\n",
    "   ON a.sales_rep_id = s.id\n",
    "   JOIN orders o\n",
    "   ON o.account_id = a.id\n",
    "   JOIN region r\n",
    "   ON r.id = s.region_id\n",
    "   GROUP BY r.name), \n",
    "t2 AS (\n",
    "   SELECT MAX(total_amt)\n",
    "   FROM t1)\n",
    "SELECT r.name, COUNT(o.total) total_orders\n",
    "FROM sales_reps s\n",
    "JOIN accounts a\n",
    "ON a.sales_rep_id = s.id\n",
    "JOIN orders o\n",
    "ON o.account_id = a.id\n",
    "JOIN region r\n",
    "ON r.id = s.region_id\n",
    "GROUP BY r.name\n",
    "HAVING SUM(o.total_amt_usd) = (SELECT * FROM t2);"
   ]
  },
  {
   "cell_type": "markdown",
   "metadata": {},
   "source": [
    "## L30Q31 10 3 For the name of the account that purchased the most (in total over their lifetime as a customer) standard_qty paper, how many accounts still had more in total purchases? "
   ]
  },
  {
   "cell_type": "code",
   "execution_count": null,
   "metadata": {},
   "outputs": [],
   "source": [
    "SELECT COUNT(*)\n",
    "FROM (SELECT a.name\n",
    "      FROM orders o\n",
    "      JOIN accounts a\n",
    "      ON a.id = o.account_id\n",
    "      GROUP BY 1\n",
    "      HAVING SUM(o.total) > (SELECT total \n",
    "                  FROM (SELECT a.name act_name, SUM(o.standard_qty) tot_std, SUM(o.total) total\n",
    "                        FROM accounts a\n",
    "                        JOIN orders o\n",
    "                        ON o.account_id = a.id\n",
    "                        GROUP BY 1\n",
    "                        ORDER BY 2 DESC\n",
    "                        LIMIT 1) inner_tab)\n",
    "            ) counter_tab;"
   ]
  },
  {
   "cell_type": "code",
   "execution_count": null,
   "metadata": {
    "collapsed": true
   },
   "outputs": [],
   "source": [
    "WITH t1 AS (\n",
    "  SELECT a.name account_name, SUM(o.standard_qty) total_std, SUM(o.total) total\n",
    "  FROM accounts a\n",
    "  JOIN orders o\n",
    "  ON o.account_id = a.id\n",
    "  GROUP BY 1\n",
    "  ORDER BY 2 DESC\n",
    "  LIMIT 1), \n",
    "t2 AS (\n",
    "  SELECT a.name\n",
    "  FROM orders o\n",
    "  JOIN accounts a\n",
    "  ON a.id = o.account_id\n",
    "  GROUP BY 1\n",
    "  HAVING SUM(o.total) > (SELECT total FROM t1))\n",
    "SELECT COUNT(*)\n",
    "FROM t2;"
   ]
  },
  {
   "cell_type": "markdown",
   "metadata": {},
   "source": [
    "## L30Q31 10 4 For the customer that spent the most (in total over their lifetime as a customer) total_amt_usd, how many web_events did they have for each channel?"
   ]
  },
  {
   "cell_type": "code",
   "execution_count": null,
   "metadata": {},
   "outputs": [],
   "source": [
    "SELECT a.name, w.channel, COUNT(*)\n",
    "FROM accounts a\n",
    "JOIN web_events w\n",
    "ON a.id = w.account_id AND a.id =  (SELECT id\n",
    "                     FROM (SELECT a.id, a.name, SUM(o.total_amt_usd) tot_spent\n",
    "                           FROM orders o\n",
    "                           JOIN accounts a\n",
    "                           ON a.id = o.account_id\n",
    "                           GROUP BY a.id, a.name\n",
    "                           ORDER BY 3 DESC\n",
    "                           LIMIT 1) inner_table)\n",
    "GROUP BY 1, 2\n",
    "ORDER BY 3 DESC;"
   ]
  },
  {
   "cell_type": "code",
   "execution_count": null,
   "metadata": {
    "collapsed": true
   },
   "outputs": [],
   "source": [
    "WITH t1 AS (\n",
    "   SELECT a.id, a.name, SUM(o.total_amt_usd) tot_spent\n",
    "   FROM orders o\n",
    "   JOIN accounts a\n",
    "   ON a.id = o.account_id\n",
    "   GROUP BY a.id, a.name\n",
    "   ORDER BY 3 DESC\n",
    "   LIMIT 1)\n",
    "SELECT a.name, w.channel, COUNT(*)\n",
    "FROM accounts a\n",
    "JOIN web_events w\n",
    "ON a.id = w.account_id AND a.id =  (SELECT id FROM t1)\n",
    "GROUP BY 1, 2\n",
    "ORDER BY 3 DESC;"
   ]
  },
  {
   "cell_type": "markdown",
   "metadata": {},
   "source": [
    "## L30Q31 10 5 What is the lifetime average amount spent in terms of total_amt_usd for the top 10 total spending accounts?\n"
   ]
  },
  {
   "cell_type": "code",
   "execution_count": null,
   "metadata": {},
   "outputs": [],
   "source": [
    "SELECT AVG(tot_spent)\n",
    "FROM (SELECT a.id, a.name, SUM(o.total_amt_usd) tot_spent\n",
    "      FROM orders o\n",
    "      JOIN accounts a\n",
    "      ON a.id = o.account_id\n",
    "      GROUP BY a.id, a.name\n",
    "      ORDER BY 3 DESC\n",
    "       LIMIT 10) temp;\n"
   ]
  },
  {
   "cell_type": "code",
   "execution_count": null,
   "metadata": {
    "collapsed": true
   },
   "outputs": [],
   "source": [
    "WITH t1 AS (\n",
    "   SELECT a.id, a.name, SUM(o.total_amt_usd) tot_spent\n",
    "   FROM orders o\n",
    "   JOIN accounts a\n",
    "   ON a.id = o.account_id\n",
    "   GROUP BY a.id, a.name\n",
    "   ORDER BY 3 DESC\n",
    "   LIMIT 10)\n",
    "SELECT AVG(tot_spent)\n",
    "FROM t1;"
   ]
  },
  {
   "cell_type": "markdown",
   "metadata": {},
   "source": [
    "## L30Q31 10 6 What is the lifetime average amount spent in terms of total_amt_usd for only the companies that spent more than the average of all orders."
   ]
  },
  {
   "cell_type": "code",
   "execution_count": null,
   "metadata": {},
   "outputs": [],
   "source": [
    "SELECT AVG(avg_amt)\n",
    "FROM (SELECT o.account_id, AVG(o.total_amt_usd) avg_amt\n",
    "    FROM orders o\n",
    "    GROUP BY 1\n",
    "    HAVING AVG(o.total_amt_usd) > (SELECT AVG(o.total_amt_usd) avg_all\n",
    "                               FROM orders o\n",
    "                               JOIN accounts a\n",
    "                               ON a.id = o.account_id)) temp_table;"
   ]
  },
  {
   "cell_type": "code",
   "execution_count": null,
   "metadata": {},
   "outputs": [],
   "source": [
    "WITH t1 AS (\n",
    "   SELECT AVG(o.total_amt_usd) avg_all\n",
    "   FROM orders o\n",
    "   JOIN accounts a\n",
    "   ON a.id = o.account_id),\n",
    "t2 AS (\n",
    "   SELECT o.account_id, AVG(o.total_amt_usd) avg_amt\n",
    "   FROM orders o\n",
    "   GROUP BY 1\n",
    "   HAVING AVG(o.total_amt_usd) > (SELECT * FROM t1))\n",
    "SELECT AVG(avg_amt)\n",
    "FROM t2;"
   ]
  },
  {
   "cell_type": "markdown",
   "metadata": {},
   "source": [
    "## L30Q32 3 2 There is much debate about how much the name (or even the first letter of a company name) matters. Use the accounts table to pull the first letter of each company name to see the distribution of company names that begin with each letter (or number)"
   ]
  },
  {
   "cell_type": "code",
   "execution_count": null,
   "metadata": {},
   "outputs": [],
   "source": [
    "SELECT LEFT(UPPER(name), 1) AS first_letter, COUNT(*) num_companies\n",
    "FROM accounts\n",
    "GROUP BY 1\n",
    "ORDER BY 2 DESC;"
   ]
  },
  {
   "cell_type": "markdown",
   "metadata": {},
   "source": [
    "## L30Q32 3 3 Use the accounts table and a CASE statement to create two groups: one group of company names that start with a number and a second group of those company names that start with a letter. What proportion of company names start with a letter?\n"
   ]
  },
  {
   "cell_type": "code",
   "execution_count": null,
   "metadata": {},
   "outputs": [],
   "source": [
    "SELECT SUM(num) nums, SUM(letter) letters\n",
    "FROM (SELECT name, CASE WHEN LEFT(UPPER(name), 1) IN ('0','1','2','3','4','5','6','7','8','9') \n",
    "                       THEN 1 ELSE 0 END AS num, \n",
    "         CASE WHEN LEFT(UPPER(name), 1) IN ('0','1','2','3','4','5','6','7','8','9') \n",
    "                       THEN 0 ELSE 1 END AS letter\n",
    "      FROM accounts) t1;"
   ]
  },
  {
   "cell_type": "markdown",
   "metadata": {},
   "source": [
    "## L32Q30 6 1 Use the accounts table to create first and last name columns that hold the first and last names for the primary_poc. "
   ]
  },
  {
   "cell_type": "code",
   "execution_count": null,
   "metadata": {},
   "outputs": [],
   "source": [
    "SELECT LEFT(primary_poc, STRPOS(primary_poc, ' ') -1 ) first_name, \n",
    "RIGHT(primary_poc, LENGTH(primary_poc) - STRPOS(primary_poc, ' ')) last_name\n",
    "FROM accounts;"
   ]
  },
  {
   "cell_type": "markdown",
   "metadata": {},
   "source": [
    "## L30Q32  1Each company in the accounts table wants to create an email address for each primary_poc. The email address should be the first name of the primary_poc . last name primary_poc @ company name .com.\n"
   ]
  },
  {
   "cell_type": "code",
   "execution_count": null,
   "metadata": {},
   "outputs": [],
   "source": [
    "WITH t1 AS (\n",
    " SELECT LEFT(primary_poc,     STRPOS(primary_poc, ' ') -1 ) first_name,  RIGHT(primary_poc, LENGTH(primary_poc) - STRPOS(primary_poc, ' ')) last_name, name\n",
    " FROM accounts)\n",
    "SELECT first_name, last_name, CONCAT(first_name, '.', last_name, '@', name, '.com')\n",
    "FROM t1;"
   ]
  },
  {
   "cell_type": "markdown",
   "metadata": {},
   "source": [
    "## L30Q32  2You may have noticed that in the previous solution some of the company names include spaces, which will certainly not work in an email address. See if you can create an email address that will work by removing all of the spaces in the account name, but otherwise your solution should be just as in question 1"
   ]
  },
  {
   "cell_type": "code",
   "execution_count": null,
   "metadata": {},
   "outputs": [],
   "source": [
    "WITH t1 AS (\n",
    " SELECT LEFT(primary_poc,     STRPOS(primary_poc, ' ') -1 ) first_name,  RIGHT(primary_poc, LENGTH(primary_poc) - STRPOS(primary_poc, ' ')) last_name, name\n",
    " FROM accounts)\n",
    "SELECT first_name, last_name, CONCAT(first_name, '.', last_name, '@', REPLACE(name, ' ', ''), '.com')\n",
    "FROM  t1;"
   ]
  },
  {
   "cell_type": "markdown",
   "metadata": {},
   "source": [
    "## L30Q32  3We would also like to create an initial password, which they will change after their first log in. The first password will be the first letter of the primary_poc's first name (lowercase), then the last letter of their first name (lowercase), the first letter of their last name (lowercase), the last letter of their last name (lowercase), the number of letters in their first name, the number of letters in their last name, and then the name of the company they are working with, all capitalized with no spaces."
   ]
  },
  {
   "cell_type": "code",
   "execution_count": null,
   "metadata": {},
   "outputs": [],
   "source": [
    "WITH t1 AS (\n",
    " SELECT LEFT(primary_poc,     STRPOS(primary_poc, ' ') -1 ) first_name,  RIGHT(primary_poc, LENGTH(primary_poc) - STRPOS(primary_poc, ' ')) last_name, name\n",
    " FROM accounts)\n",
    "SELECT first_name, last_name, CONCAT(first_name, '.', last_name, '@', name, '.com'), LEFT(LOWER(first_name), 1) || RIGHT(LOWER(first_name), 1) || LEFT(LOWER(last_name), 1) || RIGHT(LOWER(last_name), 1) || LENGTH(first_name) || LENGTH(last_name) || REPLACE(UPPER(name), ' ', '')\n",
    "FROM t1;"
   ]
  },
  {
   "cell_type": "markdown",
   "metadata": {},
   "source": [
    "## L30Q13  5 Date using cast function "
   ]
  },
  {
   "cell_type": "code",
   "execution_count": null,
   "metadata": {},
   "outputs": [],
   "source": [
    "SELECT date orig_date, (SUBSTR(date, 7, 4) || '-' || LEFT(date, 2) || '-' || SUBSTR(date, 4, 2))::DATE new_date\n",
    "FROM sf_crime_data;"
   ]
  },
  {
   "cell_type": "markdown",
   "metadata": {},
   "source": [
    "## L32Q15 1 to find missing data "
   ]
  },
  {
   "cell_type": "code",
   "execution_count": null,
   "metadata": {},
   "outputs": [],
   "source": [
    "SELECT *\n",
    "FROM accounts a\n",
    "LEFT JOIN orders o\n",
    "ON a.id = o.account_id\n",
    "WHERE o.total IS NULL;"
   ]
  },
  {
   "cell_type": "markdown",
   "metadata": {},
   "source": [
    "## L32Q15 2 using coalesce to fill in accounts.id for account.id for null value in table "
   ]
  },
  {
   "cell_type": "code",
   "execution_count": null,
   "metadata": {},
   "outputs": [],
   "source": [
    "SELECT COALESCE(a.id, a.id) filled_id, a.name, a.website, a.lat, a.long, a.primary_poc, a.sales_rep_id, o.*\n",
    "FROM accounts a\n",
    "LEFT JOIN orders o\n",
    "ON a.id = o.account_id\n",
    "WHERE o.total IS NULL;"
   ]
  },
  {
   "cell_type": "markdown",
   "metadata": {},
   "source": [
    "## L32Q15 2 fill in qty,usd,for zero"
   ]
  },
  {
   "cell_type": "code",
   "execution_count": null,
   "metadata": {},
   "outputs": [],
   "source": [
    "SELECT COALESCE(a.id, a.id) filled_id, a.name, a.website, a.lat, a.long, a.primary_poc, a.sales_rep_id, COALESCE(o.account_id, a.id) account_id, o.occurred_at, COALESCE(o.standard_qty, 0) standard_qty, COALESCE(o.gloss_qty,0) gloss_qty, COALESCE(o.poster_qty,0) poster_qty, COALESCE(o.total,0) total, COALESCE(o.standard_amt_usd,0) standard_amt_usd, COALESCE(o.gloss_amt_usd,0) gloss_amt_usd, COALESCE(o.poster_amt_usd,0) poster_amt_usd, COALESCE(o.total_amt_usd,0) total_amt_usd\n",
    "FROM accounts a\n",
    "LEFT JOIN orders o\n",
    "ON a.id = o.account_id\n",
    "WHERE o.total IS NULL;"
   ]
  },
  {
   "cell_type": "markdown",
   "metadata": {},
   "source": [
    "## L32Q15 5 where removed and count the no of ids"
   ]
  },
  {
   "cell_type": "code",
   "execution_count": null,
   "metadata": {},
   "outputs": [],
   "source": [
    "SELECT COUNT(*)\n",
    "FROM accounts a\n",
    "LEFT JOIN orders o\n",
    "ON a.id = o.account_id;"
   ]
  },
  {
   "cell_type": "markdown",
   "metadata": {},
   "source": [
    "## L32Q15 5 https://classroom.udacity.com/courses/ud002-bert/lessons/03f64082-fa4d-4aff-80be-d48597867e07/concepts/a97aeca2-634e-4dac-a5f1-2a91378797e8"
   ]
  },
  {
   "cell_type": "code",
   "execution_count": null,
   "metadata": {
    "collapsed": true
   },
   "outputs": [],
   "source": [
    "SELECT COALESCE(a.id, a.id) filled_id, a.name, a.website, a.lat, a.long, a.primary_poc, a.sales_rep_id, COALESCE(o.account_id, a.id) account_id, o.occurred_at, COALESCE(o.standard_qty, 0) standard_qty, COALESCE(o.gloss_qty,0) gloss_qty, COALESCE(o.poster_qty,0) poster_qty, COALESCE(o.total,0) total, COALESCE(o.standard_amt_usd,0) standard_amt_usd, COALESCE(o.gloss_amt_usd,0) gloss_amt_usd, COALESCE(o.poster_amt_usd,0) poster_amt_usd, COALESCE(o.total_amt_usd,0) total_amt_usd\n",
    "FROM accounts a\n",
    "LEFT JOIN orders o\n",
    "ON a.id = o.account_id;\n"
   ]
  }
 ],
 "metadata": {
  "kernelspec": {
   "display_name": "Python 3",
   "language": "python",
   "name": "python3"
  },
  "language_info": {
   "codemirror_mode": {
    "name": "ipython",
    "version": 3
   },
   "file_extension": ".py",
   "mimetype": "text/x-python",
   "name": "python",
   "nbconvert_exporter": "python",
   "pygments_lexer": "ipython3",
   "version": "3.6.3"
  }
 },
 "nbformat": 4,
 "nbformat_minor": 2
}
